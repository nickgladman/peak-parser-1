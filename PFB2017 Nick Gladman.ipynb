{
 "cells": [
  {
   "cell_type": "markdown",
   "metadata": {},
   "source": [
    "# Nick Gladman Peak-Parser Code"
   ]
  },
  {
   "cell_type": "markdown",
   "metadata": {},
   "source": [
    "###import re"
   ]
  },
  {
   "cell_type": "markdown",
   "metadata": {},
   "source": []
  },
  {
   "cell_type": "markdown",
   "metadata": {},
   "source": [
    "###Will make our own Bedfile class"
   ]
  },
  {
   "cell_type": "markdown",
   "metadata": {},
   "source": [
    "```class Bedfile(object):\n",
    "\t'''\n",
    "\tClass to read a bedfile type file.\n",
    "\t'''"
   ]
  },
  {
   "cell_type": "markdown",
   "metadata": {},
   "source": [
    "```def __init__(self, path=None): #standard idiom when defining classes"
   ]
  },
  {
   "cell_type": "markdown",
   "metadata": {},
   "source": [
    "###set dictionary to be used in lower script and filepath designation"
   ]
  },
  {
   "cell_type": "markdown",
   "metadata": {},
   "source": [
    "```self.chromosomes = dict() # key=chromosome name, value=Chromosome object\n",
    "\t\tself.filepath = path"
   ]
  },
  {
   "cell_type": "markdown",
   "metadata": {},
   "source": [
    "###opening file from script or argparse and reading in line by line"
   ]
  },
  {
   "cell_type": "markdown",
   "metadata": {},
   "source": [
    "```with open(path) as bedfile:\n",
    "\t\t\tfor line in bedfile:\n",
    "\t\t\t\tline = line.rstrip()\n",
    "                fields = line.split(\"\\t\")\n",
    "\t\t\t\tchr_name = fields[0]"
   ]
  },
  {
   "cell_type": "markdown",
   "metadata": {},
   "source": [
    "### get existing or create new chromosome\t"
   ]
  },
  {
   "cell_type": "markdown",
   "metadata": {},
   "source": [
    "```if chr_name in self.chromosomes:\n",
    "\t\t\t\t\tchromosome =  self.chromosomes[chr_name] #chromosome_name is associated with the chromosome value, which in the else statement below we turn into a Chromosome object list\n",
    "\t\t\t\telse:\n",
    "\t\t\t\t\tchromosome = Chromosome(name=chr_name) # we creating a new object in our dictionary, chromosome, and that object is of the Class Chromosome and its name is chr_name\n",
    "\t\t\t\t\tself.chromosomes[chr_name.lower()] = chromosome"
   ]
  },
  {
   "cell_type": "markdown",
   "metadata": {},
   "source": []
  },
  {
   "cell_type": "markdown",
   "metadata": {},
   "source": []
  },
  {
   "cell_type": "markdown",
   "metadata": {},
   "source": []
  },
  {
   "cell_type": "code",
   "execution_count": null,
   "metadata": {
    "collapsed": true
   },
   "outputs": [],
   "source": []
  },
  {
   "cell_type": "code",
   "execution_count": null,
   "metadata": {
    "collapsed": true
   },
   "outputs": [],
   "source": []
  },
  {
   "cell_type": "code",
   "execution_count": null,
   "metadata": {
    "collapsed": true
   },
   "outputs": [],
   "source": []
  },
  {
   "cell_type": "code",
   "execution_count": null,
   "metadata": {
    "collapsed": true
   },
   "outputs": [],
   "source": []
  }
 ],
 "metadata": {
  "kernelspec": {
   "display_name": "Python 3",
   "language": "python",
   "name": "python3"
  },
  "language_info": {
   "codemirror_mode": {
    "name": "ipython",
    "version": 3
   },
   "file_extension": ".py",
   "mimetype": "text/x-python",
   "name": "python",
   "nbconvert_exporter": "python",
   "pygments_lexer": "ipython3",
   "version": "3.6.2"
  }
 },
 "nbformat": 4,
 "nbformat_minor": 2
}
